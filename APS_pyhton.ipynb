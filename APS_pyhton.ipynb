{
 "cells": [
  {
   "cell_type": "code",
   "execution_count": null,
   "id": "b0b33992-e04e-4690-9dc2-bb72374763ef",
   "metadata": {},
   "outputs": [],
   "source": [
    "import pandas as pd\n",
    "import numpy as np\n",
    "import matplotlib.pyplot as fig\n",
    "from plotnine import *\n",
    "from sklearn import tree\n",
    "from sklearn.model_selection import train_test_split\n",
    "from sklearn.metrics import confusion_matrix, ConfusionMatrixDisplay, roc_curve, roc_auc_score\n",
    "import patsy"
   ]
  },
  {
   "cell_type": "markdown",
   "id": "eae7df5b",
   "metadata": {},
   "source": [
    "# APS Python para Ciência de Dados - Grupo 1"
   ]
  },
  {
   "cell_type": "markdown",
   "id": "0ef8e4cf-9c54-415d-b478-0ec9a79a9219",
   "metadata": {},
   "source": [
    "O estudo e a investigação de acidentes aeronáuticos é de grande importância para aprimorar ao máximo a segurança de voo para passageiros e pilotos. O Brasil é o quarto país com maior número de acidentes aéreos fatais desde 1945, com quase 190 ocorrências. Apenas em 2021 o país registrou 111 acidentes com aeronaves de pequeno porte, segundo a Aviation Safety Network, uma plataforma colaborativa mantida pela ONG internacional Flight Safety Foundation. \n",
    "\n",
    "O país é o segundo maior em número de aeroportos do mundo, com 2.717 terminais, sendo 2 mil deles privados. Em relação aos aeroportos que operam voo regularmente o número é bem menor, sendo somente 134 deles. No que diz respeito ao tamanho da frota, o Brasil também se encontra no segundo lugar, com mais de 15 mil aeronaves, ficando atrás apenas dos EUA. As causas mais comuns de acidentes são aquelas ligadas ao fator operacional, seguida do fator humano. \n",
    "\n",
    "Referências:\n",
    "\n",
    "https://www.poder360.com.br/brasil/brasil-teve-111-acidentes-com-aeronaves-de-pequeno-porte-em-2021/\n",
    "\n",
    "https://www.statista.com/statistics/262867/fatal-civil-airliner-accidents-since-1945-by-country-and-region/\n",
    "\n",
    "https://www2.fab.mil.br/cenipa/index.php/investigacoes#:~:text=A%20investiga%C3%A7%C3%A3o%20de%20acidente%20aeron%C3%A1utico,voo%2C%20seja%20militar%20ou%20civil.\n",
    "\n",
    "https://www.melhoresdestinos.com.br/aeroportos-mundo.html\n",
    "\n",
    "https://www.bloomberglinea.com.br/2021/11/15/por-que-tantos-avioes-privados-caem-no-brasil/\n",
    "\n"
   ]
  },
  {
   "cell_type": "markdown",
   "id": "fb952746",
   "metadata": {},
   "source": [
    "# ACIDENTES AERONAVES"
   ]
  },
  {
   "cell_type": "code",
   "execution_count": null,
   "id": "fd43f4b6",
   "metadata": {},
   "outputs": [],
   "source": [
    "contrib=pd.read_excel('fator_contribuinte.xlsx') #Como\n",
    "aeronave=pd.read_excel('aeronave.xlsx') #Como + o quê\n",
    "tipo_ocorrencia=pd.read_excel('ocorrencia_tipo.xlsx') #O quê\n",
    "ocorrencia=pd.read_excel('ocorrencia.xlsx') #Como + o quê"
   ]
  },
  {
   "cell_type": "markdown",
   "id": "9bdfdd84",
   "metadata": {},
   "source": [
    "# TIPO OCORRÊNCIA: Diz o que aconteceu na aeronave"
   ]
  },
  {
   "cell_type": "code",
   "execution_count": null,
   "id": "b1ee95e8",
   "metadata": {},
   "outputs": [],
   "source": [
    "tipo_ocorrencia.info()"
   ]
  },
  {
   "cell_type": "code",
   "execution_count": null,
   "id": "49defb34",
   "metadata": {
    "scrolled": true
   },
   "outputs": [],
   "source": [
    "tipo_ocorrencia.head()"
   ]
  },
  {
   "cell_type": "markdown",
   "id": "6a940f0c",
   "metadata": {},
   "source": [
    "# OCORRÊNCIA: DF \"principal\", tem mortes e informações geográficas do acidente, além de colunas \"codigo_ocorrencia\" que podem ser usadas p/ merge"
   ]
  },
  {
   "cell_type": "code",
   "execution_count": null,
   "id": "139f84c5",
   "metadata": {},
   "outputs": [],
   "source": [
    "ocorrencia.info()"
   ]
  },
  {
   "cell_type": "code",
   "execution_count": null,
   "id": "5f3dedc7",
   "metadata": {
    "scrolled": true
   },
   "outputs": [],
   "source": [
    "ocorrencia.head()"
   ]
  },
  {
   "cell_type": "code",
   "execution_count": null,
   "id": "a091899f",
   "metadata": {},
   "outputs": [],
   "source": [
    "# Removendo variáveis irrelevantes para a análise\n",
    "ocorrencia=ocorrencia.drop(columns=['ocorrencia_latitude','ocorrencia_longitude',\n",
    "                                    'divulgacao_relatorio_numero','divulgacao_dia_publicacao',\n",
    "                                   'investigacao_aeronave_liberada','investigacao_status','divulgacao_relatorio_publicado',\n",
    "                                   'divulgacao_relatorio_numero','divulgacao_relatorio_publicado','divulgacao_dia_publicacao',\n",
    "                                   'total_recomendacoes'])"
   ]
  },
  {
   "cell_type": "markdown",
   "id": "5edc2a4b",
   "metadata": {},
   "source": [
    "#### Se houver morte ou destruição, é acidente. "
   ]
  },
  {
   "cell_type": "code",
   "execution_count": null,
   "id": "00dc78e0",
   "metadata": {
    "scrolled": true
   },
   "outputs": [],
   "source": [
    "ocorrencia['ocorrencia_classificacao'].value_counts().reset_index()"
   ]
  },
  {
   "cell_type": "markdown",
   "id": "7f4d9770",
   "metadata": {},
   "source": [
    "# AERONAVE: Descreve as características da aeronave que sofreu a ocorrência"
   ]
  },
  {
   "cell_type": "code",
   "execution_count": null,
   "id": "7e88163b",
   "metadata": {
    "scrolled": true
   },
   "outputs": [],
   "source": [
    "aeronave.head()"
   ]
  },
  {
   "cell_type": "code",
   "execution_count": null,
   "id": "c73ec5ef",
   "metadata": {},
   "outputs": [],
   "source": [
    "aeronave.info()"
   ]
  },
  {
   "cell_type": "code",
   "execution_count": null,
   "id": "2dd2fd1e",
   "metadata": {},
   "outputs": [],
   "source": [
    "# Removendo dados inútei para a análise\n",
    "aeronave=aeronave.drop(columns=['aeronave_matricula','aeronave_pmd',\n",
    "                                'aeronave_pmd_categoria','aeronave_tipo_icao'])"
   ]
  },
  {
   "cell_type": "markdown",
   "id": "f04d1f68",
   "metadata": {},
   "source": [
    "# CONTRIBUINTE: Fatores que contribuiram para que o acidente ocorra"
   ]
  },
  {
   "cell_type": "code",
   "execution_count": null,
   "id": "49a42cc7",
   "metadata": {},
   "outputs": [],
   "source": [
    "contrib.info()"
   ]
  },
  {
   "cell_type": "code",
   "execution_count": null,
   "id": "48866c5c",
   "metadata": {},
   "outputs": [],
   "source": [
    "contrib.head()"
   ]
  },
  {
   "cell_type": "markdown",
   "id": "7d9c0a51",
   "metadata": {},
   "source": [
    "# ANALISAR CAUSAS + DESCREVER O QUE OCORRE EM ACIDENTES\n",
    "\n",
    "## CAUSAS:\n",
    "### Dividido em aeronave e fatores contribuintes\n",
    "## O QUE OCORRE EM ACIDENTES:\n",
    "### Utilizar dados sobre fatalidades, danos à aeronave etc...\n",
    "## MODELO PREDITIVO: CLASSIFICAÇÃO"
   ]
  },
  {
   "cell_type": "markdown",
   "id": "278e1f11",
   "metadata": {},
   "source": [
    "# ANÁLISE DAS AERONAVES QUE SOFRERAM OS ACIDENTES"
   ]
  },
  {
   "cell_type": "markdown",
   "id": "14eefb05",
   "metadata": {},
   "source": [
    "#### DFs a serem utilizados: aeronave, tipo_ocorrencia e ocorrencia"
   ]
  },
  {
   "cell_type": "code",
   "execution_count": null,
   "id": "ef03a72f",
   "metadata": {},
   "outputs": [],
   "source": [
    "#Junção\n",
    "df=pd.merge(aeronave,ocorrencia,on='codigo_ocorrencia2')\n",
    "df=df.merge(tipo_ocorrencia,on='codigo_ocorrencia1')"
   ]
  },
  {
   "cell_type": "markdown",
   "id": "886fb5df",
   "metadata": {},
   "source": [
    "#### AERONAVE E SUAS CARACTERÍSTICAS"
   ]
  },
  {
   "cell_type": "markdown",
   "id": "802161f9",
   "metadata": {},
   "source": [
    "###### Pode-se observar que aeronaves com motor de pistão e de pequeno porte são aquelas mais envolvidas em ocorrências. O primeiro gráfico indica claramente que aviões - sejam bimotores ou monomotores - são a categoria mais frequente  de aeronave nas ocorrências. Entretanto, é necessário considerar que aviões são, em geral, as aeronaves tripuladas mais utilizadas, de forma que sua recorrência possa estar inflacionada."
   ]
  },
  {
   "cell_type": "code",
   "execution_count": null,
   "id": "7db71c9c",
   "metadata": {
    "scrolled": true
   },
   "outputs": [],
   "source": [
    "# Qual o tipo de aeronave?\n",
    "aeronave['aeronave_tipo_veiculo'].value_counts().reset_index().head(7).pipe(lambda _: ggplot(_,aes(x=\"reorder(index,aeronave_tipo_veiculo)\",y=\"aeronave_tipo_veiculo\",fill='index'))+\n",
    "        geom_col()+\n",
    "        coord_flip()+\n",
    "        labs(title='',x='',y='Frequência'))"
   ]
  },
  {
   "cell_type": "code",
   "execution_count": null,
   "id": "0650a18e",
   "metadata": {},
   "outputs": [],
   "source": [
    "# Qual o motor de aeronave?\n",
    "aeronave['aeronave_motor_tipo'].value_counts().reset_index().pipe(lambda _: ggplot(_,aes(x=\"reorder(index,aeronave_motor_tipo)\",y=\"aeronave_motor_tipo\",fill='index'))+\n",
    "        geom_col(alpha=0.8)+\n",
    "        coord_flip()+\n",
    "        labs(title='',x='',y='Frequência')+\n",
    "        theme(legend_position = \"none\"))"
   ]
  },
  {
   "cell_type": "code",
   "execution_count": null,
   "id": "1f7021bd",
   "metadata": {},
   "outputs": [],
   "source": [
    "# Qual a quantidade de motores?\n",
    "aeronave['aeronave_motor_quantidade'].value_counts().reset_index().pipe(lambda _: ggplot(_,aes(x=\"reorder(index,aeronave_motor_quantidade)\",y=\"aeronave_motor_quantidade\",fill='index'))+\n",
    "        geom_col(alpha=0.8)+\n",
    "        coord_flip()+\n",
    "        labs(title='Acidentes por tipo de motor',x=\"\",y=\"Frequência\") +\n",
    "        theme(legend_position = \"none\"))"
   ]
  },
  {
   "cell_type": "code",
   "execution_count": null,
   "id": "5379c358",
   "metadata": {},
   "outputs": [],
   "source": [
    "# Qual a quantidade de assentos?\n",
    "aeronave.dropna(subset=['aeronave_assentos']).pipe(lambda _:ggplot(_,aes(x='aeronave_assentos'))+\n",
    "        geom_histogram(alpha=0.7,fill='blue',bins=20)+\n",
    "        labs(title='Tamanho X Qtd. de ocorrências',x='Qtd. de assentos',y='Frequência') +\n",
    "        theme(legend_position = \"none\"))"
   ]
  },
  {
   "cell_type": "code",
   "execution_count": null,
   "id": "4f24af8f",
   "metadata": {},
   "outputs": [],
   "source": [
    "# Aviões bimotores ou monomotores?\n",
    "a=aeronave.loc[aeronave.aeronave_tipo_veiculo=='AVIÃO',['aeronave_motor_quantidade']].value_counts().reset_index()\n",
    "a.columns=['Qtd. de motores no avião','Freq']\n",
    "a"
   ]
  },
  {
   "cell_type": "markdown",
   "id": "ab7d87dd",
   "metadata": {},
   "source": [
    "#### IDADE E FABRICANTES"
   ]
  },
  {
   "cell_type": "markdown",
   "id": "dd01a901",
   "metadata": {},
   "source": [
    "###### Como se pode observar, as aeronaves mais recentes estão concentradas em valores menores, indicando melhora na fabricação. Entretanto, é necessário considerar que aeronaves mais antigas terão realizado mais viagens, estando mais sujeitas a possuírem maior número de ocorrências. Para aquelas fabricadas antes de 1975, é válido pontuar que viagens de aeronaves não eram tão comuns como atualmente, de forma que sua recorrência pode estar deflacionada.\n",
    "###### Parece existir certa concentração do número de ocorrências nos 9 primeiros fabricantes (de um total de 251), sendo os únicos com mais de 250 ocorrências registradas. Um elevado grau de concentração de market-share no mercado de aeronaves no Brasil poderia inflacionar os valores observados. No mais, o número de ocorrências registradas com aeronaves importadas é baixíssimo."
   ]
  },
  {
   "cell_type": "code",
   "execution_count": null,
   "id": "c507c92f",
   "metadata": {
    "scrolled": true
   },
   "outputs": [],
   "source": [
    "# Qual a \"idade\" das aeronaves?\n",
    "aeronave['aeronave_ano_fabricacao'].value_counts().reset_index().sort_values(by='index').drop([0,79]).pipe(lambda _: ggplot(_,aes(x='index',y=\"aeronave_ano_fabricacao\"))+\n",
    "        geom_point(alpha=0.7,fill='blue')+\n",
    "        labs(title='Acidentes X Idade da aeronave',x='Ano de fabricação',y=\"Quantidade de ocorrências\") +\n",
    "        theme(legend_position = \"none\",figure_size=(6,3)))"
   ]
  },
  {
   "cell_type": "code",
   "execution_count": null,
   "id": "99860dc7",
   "metadata": {},
   "outputs": [],
   "source": [
    "# Quais os fabricantes mais envolvidos com acidentes?\n",
    "aeronave['aeronave_fabricante'].value_counts().reset_index().head(9).pipe(lambda _: ggplot(_,aes(x=\"reorder(index,aeronave_fabricante)\",y=\"aeronave_fabricante\",fill='index'))+\n",
    "        geom_col(alpha=0.8)+\n",
    "        coord_flip()+\n",
    "        labs(title='Fabricantes com ao menos 250 ocorrências registradas com suas aeronaves',x=\"\",y=\"Frequência\") +\n",
    "        theme(legend_position = \"none\"))\n",
    "#(aeronave['aeronave_fabricante']).value_counts().reset_index().drop(columns='aeronave_fabricante')"
   ]
  },
  {
   "cell_type": "code",
   "execution_count": null,
   "id": "05f38b77",
   "metadata": {},
   "outputs": [],
   "source": [
    "# Quais os países mais envolvidos com acidentes?\n",
    "print('Porcentagem de ocorrências com aeronaves importadas =',round(((52+12+8)/(6074+52+12+8))*100,2),'%')\n",
    "aeronave['aeronave_pais_fabricante'].value_counts().reset_index().head(4)"
   ]
  },
  {
   "cell_type": "markdown",
   "id": "5a95c599",
   "metadata": {},
   "source": [
    "#### O QUE COSTUMA ACONTECER COM AS AERONAVES?"
   ]
  },
  {
   "cell_type": "markdown",
   "id": "c93faa0e",
   "metadata": {},
   "source": [
    "###### Existem 81 formas de classificar as ocorrências de acordo com o que acontece com as aeronaves, e existem 32 taxonomias para agrupa-las.\n",
    "###### Pode-se perceber que danos substanciais tendem a ser classificados na categoria acidentes, enquanto as demais categorias, responsáveis pela maior parte das ocorrências, apresentam danos leves ou nenhum dano a aeronave. Também pode-se constatar que a destruição de aeronaves são consideradas diretamente como acidentes. \n",
    "###### Outro fator importante de ser observado é que das 6 ocorrências mais comuns - falha do motor em voo, falha ou mau funcionamento de sistema/componente, estouro de pneu, perda de controle no solo, perda de controle em voo e com trem de pouso - , 5 estão altamente relacionadas com o processo de pouso, decolagem ou voo de cruzeiro."
   ]
  },
  {
   "cell_type": "code",
   "execution_count": null,
   "id": "0f151b72",
   "metadata": {},
   "outputs": [],
   "source": [
    "# Tipo - \"Especificidade 1\"\n",
    "nome=tipo_ocorrencia.ocorrencia_tipo.unique().tolist()\n",
    "print('(1) Qtd. de tipos de ocorrências =',len(nome))\n",
    "\n",
    "# Categoria - \"Especificidade 2\"\n",
    "categoria=tipo_ocorrencia.ocorrencia_tipo_categoria.unique().tolist()\n",
    "print('(2) Qtd. de categorias =',len(categoria))\n",
    "\n",
    "# Taxonomia - \"Especificidade 3\"\n",
    "tax=tipo_ocorrencia.taxonomia_tipo_icao.unique().tolist()\n",
    "print('(3) Qtd. de taxonomias =',len(tax))"
   ]
  },
  {
   "cell_type": "code",
   "execution_count": null,
   "id": "d3496cc6",
   "metadata": {},
   "outputs": [],
   "source": [
    "# Qual o dano causado em cada tipo de ocorrência?\n",
    "(ggplot(df, aes(x = \"aeronave_nivel_dano\", fill = \"aeronave_nivel_dano\")) + \n",
    "     geom_bar(alpha = .75) +\n",
    "     coord_flip()+\n",
    "     labs(x = \"\", y = \"Contagem\", title = \"Dano a aeronave\") + \n",
    "     facet_wrap(\"~ ocorrencia_classificacao\",nrow=3) +\n",
    "     theme(legend_position = \"none\"))"
   ]
  },
  {
   "cell_type": "code",
   "execution_count": null,
   "id": "53a21c9e",
   "metadata": {},
   "outputs": [],
   "source": [
    "# Fase da operação mais problemática\n",
    "a=aeronave['aeronave_fase_operacao'].value_counts().reset_index().head(4)\n",
    "a.columns=['aeronave_fase_operacao','freq']\n",
    "f_mais_prob=a.aeronave_fase_operacao.tolist()\n",
    "aeronave['aeronave_fase_operacao'].value_counts().reset_index().head(4).pipe(lambda _: ggplot(_,aes(x=\"reorder(index,aeronave_fase_operacao)\",y=\"aeronave_fase_operacao\",fill='index'))+\n",
    "        geom_col(alpha=0.8)+\n",
    "        coord_flip()+\n",
    "        labs(title='Fases de operação mais problemáticas',x=\" \",y=\"Frequência\") +\n",
    "        theme(legend_position = \"none\",figure_size = (5, 5)))"
   ]
  },
  {
   "cell_type": "code",
   "execution_count": null,
   "id": "b73d5b8f",
   "metadata": {},
   "outputs": [],
   "source": [
    "# Ocorrências mais comuns\n",
    "a=df['ocorrencia_tipo'].value_counts().reset_index().head(6)\n",
    "a.columns=['ocorrencia_tipo','freq']\n",
    "oc_mais_comuns=a.ocorrencia_tipo.tolist()\n",
    "df['ocorrencia_tipo'].value_counts().reset_index().head(6).pipe(lambda _: ggplot(_,aes(x=\"reorder(index,ocorrencia_tipo)\",y=\"ocorrencia_tipo\",fill='index'))+\n",
    "        geom_col(alpha=0.8)+\n",
    "        coord_flip()+\n",
    "        labs(title='Ocorrencias mais comuns',x=\" \",y=\"Frequência\") +\n",
    "        theme(legend_position = \"none\",figure_size = (5, 5)))"
   ]
  },
  {
   "cell_type": "code",
   "execution_count": null,
   "id": "2a2d7d53",
   "metadata": {
    "scrolled": true
   },
   "outputs": [],
   "source": [
    "# O quê exatamente ocorre com a aeronave em cada tipo de ocorrência?\n",
    "a=df[['ocorrencia_tipo','aeronave_fase_operacao']].query(\"aeronave_fase_operacao==['POUSO','DECOLAGEM','CRUZEIRO','CORRIDA APÓS POUSO']\")\n",
    "a=a.query(\"ocorrencia_tipo==['FALHA DO MOTOR EM VOO','FALHA OU MAU FUNCIONAMENTO DE SISTEMA / COMPONENTE','ESTOURO DE PNEU','PERDA DE CONTROLE NO SOLO','PERDA DE CONTROLE EM VOO','COM TREM DE POUSO']\")\n",
    "(ggplot(a,aes(x=\"ocorrencia_tipo\",fill='ocorrencia_tipo'))+\n",
    "        geom_histogram()+\n",
    "        coord_flip()+\n",
    "        labs(title='Ocorrências mais comuns em fases mais problemáticas',x=\" \",y=\"Frequência\") +\n",
    "        theme(legend_position = \"none\",figure_size=(5,5))+\n",
    "        facet_wrap('~ aeronave_fase_operacao'))"
   ]
  },
  {
   "cell_type": "markdown",
   "id": "1bce6062",
   "metadata": {},
   "source": [
    "# ANÁLISE DAS CAUSAS RELATADAS DOS ACIDENTES"
   ]
  },
  {
   "cell_type": "code",
   "execution_count": null,
   "id": "2f604abb-3756-4595-9d73-d80693c6608b",
   "metadata": {},
   "outputs": [],
   "source": [
    "# Divisões de aspectos\n",
    "contrib.filter(['fator_condicionante','fator_aspecto']).drop_duplicates().sort_values(by='fator_aspecto').reset_index()\n",
    "# Divisões de áreas\n",
    "#contrib.filter(['fator_condicionante','fator_area']).drop_duplicates().sort_values(by='fator_condicionante').reset_index()"
   ]
  },
  {
   "cell_type": "code",
   "execution_count": null,
   "id": "0f888509-8a1d-4cb1-9be0-617890141c53",
   "metadata": {},
   "outputs": [],
   "source": [
    "# Nome - \"Especificidade 1\"\n",
    "nome=contrib.fator_nome.unique().tolist()\n",
    "print('(1) Qtd. de nome de fatores =',len(nome))\n",
    "\n",
    "# Condicionante - \"Especificidade 2\"\n",
    "condicionante=contrib.fator_condicionante.unique().tolist()\n",
    "print('(2) Qtd. de condicionante de fatores =',len(condicionante))\n",
    "\n",
    "# Aspecto - \"Especificidade 3\"\n",
    "aspecto=contrib.fator_aspecto.unique().tolist()\n",
    "print('(3) Qtd. de aspecto de fatores =',len(aspecto))\n",
    "\n",
    "# Área - \"Especificidade 4\"\n",
    "area=contrib.fator_area.unique().tolist()\n",
    "print('(4) Qtd. de area de fatores =',len(area))\n",
    "\n",
    "# Excluir nomes e condicionante?"
   ]
  },
  {
   "cell_type": "code",
   "execution_count": null,
   "id": "86bf44bf-28db-47b5-b99d-38606ed26f87",
   "metadata": {},
   "outputs": [],
   "source": [
    "# Criando o DF de cada uma das variáveis com os valores e em ordem descendente\n",
    "dfa = contrib.value_counts(\"fator_area\").to_frame(\"n\").reset_index()\n",
    "dfas = contrib.value_counts(\"fator_aspecto\").to_frame(\"n\").reset_index()\n",
    "dfc = contrib.value_counts(\"fator_condicionante\").to_frame(\"n\").reset_index()\n",
    "dfn = contrib.value_counts(\"fator_nome\").to_frame(\"n\").reset_index()"
   ]
  },
  {
   "cell_type": "code",
   "execution_count": null,
   "id": "87da237b-fa24-4e1f-9ca0-b87d3b086e4e",
   "metadata": {
    "jupyter": {
     "source_hidden": true
    },
    "tags": []
   },
   "outputs": [],
   "source": [
    "df=contrib.filter(['fator_area','fator_condicionante','fator_aspecto']).drop_duplicates().sort_values(by='fator_area').reset_index()\n",
    "\n",
    "#Categorias área\n",
    "a=df['fator_area'].reset_index().drop(columns='index').value_counts().reset_index()\n",
    "a.columns=['fator_area','Subcategorias']\n",
    "#Categorias aspecto\n",
    "b=df['fator_aspecto'].reset_index().drop(columns='index').value_counts().reset_index()\n",
    "b.columns=['fator_aspecto','Subcategorias']\n",
    "#Categorias condicionante\n",
    "c=df['fator_condicionante'].reset_index().drop(columns='index').value_counts().reset_index()\n",
    "c.columns=['fator_condicionante','Subcategorias']"
   ]
  },
  {
   "cell_type": "code",
   "execution_count": null,
   "id": "d7604fd7-5e6f-411f-b4b6-91cc7b84ea8e",
   "metadata": {},
   "outputs": [],
   "source": [
    "(dfa.assign(fator_area = lambda _: pd.Categorical(_.fator_area, _.fator_area.unique()))\n",
    "    .pipe(lambda _:(ggplot(_, aes(x = \"fator_area\", y = \"n\", fill = \"fator_area\")) + \n",
    "                              geom_col(alpha = 0.75) +\n",
    "                              labs(y = \"Número de Observações\", title = \"Nome de Áreas Observados\") +\n",
    "                              theme(axis_title_x=element_blank(),\n",
    "                              axis_text_x=element_blank())\n",
    "                              )))\n",
    "\n",
    "# As duas áres de fatores mais proeminentes são Fator Operacional (1 lugar) e Fator Humano (2 lugar)"
   ]
  },
  {
   "cell_type": "code",
   "execution_count": null,
   "id": "612ef580-c415-46d5-9c49-28ccbcc8c392",
   "metadata": {},
   "outputs": [],
   "source": [
    "(dfas.assign(fator_aspecto = lambda _: pd.Categorical(_.fator_aspecto, _.fator_aspecto.unique()))\n",
    "     .pipe(lambda _:(ggplot(_, aes(x = \"fator_aspecto\", y = \"n\", fill = \"fator_aspecto\")) + \n",
    "                              geom_col(alpha = 0.75) +\n",
    "                              labs(y = \"Número de Observações\", title = \"Nome de Aspectos Observados\") +\n",
    "                              theme(axis_title_x=element_blank(),\n",
    "                              axis_text_x=element_blank())\n",
    "                              )))\n",
    "\n",
    "\n",
    "# As duas áres de fatores mais proeminentes são Desempenho do Ser Humano (1º lugar) e Aspecto Psicológico (2º lugar)"
   ]
  },
  {
   "cell_type": "code",
   "execution_count": null,
   "id": "6826c429-4ab4-429c-81a7-9bbb98c8a70d",
   "metadata": {},
   "outputs": [],
   "source": [
    "(dfc.assign(fator_condicionante = lambda _: pd.Categorical(_.fator_condicionante, _.fator_condicionante.unique()))\n",
    "     .pipe(lambda _:(ggplot(_, aes(x = \"fator_condicionante\", y = \"n\", fill = \"fator_condicionante\")) + \n",
    "                              geom_col(alpha = 0.75) +\n",
    "                              labs(y = \"Número de Observações\", title = \"Nome de Condicionantes Observados\") +\n",
    "                              theme(axis_title_x=element_blank(),\n",
    "                              axis_text_x=element_blank())\n",
    "                              )))\n",
    "\n",
    "# Os 2 condicionantes mais observados são Operação da Aeronave e Individual"
   ]
  },
  {
   "cell_type": "code",
   "execution_count": null,
   "id": "d7c2a393-2605-4bfa-a36e-760c0679d15b",
   "metadata": {},
   "outputs": [],
   "source": [
    "(dfn.assign(fator_nome = lambda _: pd.Categorical(_.fator_nome, _.fator_nome.unique()))\n",
    "    .pipe(lambda _:(ggplot(_, aes(x = \"fator_nome\", y = \"n\", fill = \"fator_nome\")) + \n",
    "                              geom_col(alpha = 0.75) +\n",
    "                              labs(y = \"Número de Observações\", title = \"Nome de Fatores Observados\") +\n",
    "                              theme(axis_title_x=element_blank(),\n",
    "                              axis_text_x=element_blank())\n",
    "                              )))\n",
    "\n",
    "# Dado o grande número de variáveis, é válido fazer um corte para checar as principais. O corte proposto foi de 200 ocorrências ou mais"
   ]
  },
  {
   "cell_type": "code",
   "execution_count": null,
   "id": "f2ff6b39-cb0e-475d-bad6-7d2b3b79de3d",
   "metadata": {},
   "outputs": [],
   "source": [
    "# Cria-se um novo dataframe, já filtrado e baseado no número de observações de cada nome de fator\n",
    "\n",
    "dfn2 = dfn[dfn.n>200]\n",
    "\n",
    "(dfn2.assign(fator_nome = lambda _: pd.Categorical(_.fator_nome, _.fator_nome.unique()))\n",
    "     .pipe(lambda _:(ggplot(_, aes(x = \"fator_nome\", y = \"n\", fill = \"fator_nome\")) + \n",
    "                              geom_col(alpha = 0.75) +\n",
    "                              labs(y = \"Número de Observações\", title = \"Nome de Fatores Observados\") +\n",
    "                              theme(axis_title_x=element_blank(),\n",
    "                              axis_text_x=element_blank())\n",
    "                              )))"
   ]
  },
  {
   "cell_type": "code",
   "execution_count": null,
   "id": "a3ad067e-084b-4cf9-a774-9f2dfc1856c9",
   "metadata": {},
   "outputs": [],
   "source": [
    "# Criados novos DFs para que, em um possívvel \"merge\", não há dissonância relativa ao número de observações e índice\n",
    "dfa2 = dfa[dfa.n>1000]\n",
    "dfas2 = dfas[dfas.n>1000]\n",
    "dfc2 = dfc[dfc.n>500]\n",
    "\n",
    "\n",
    "print(\"Os 2 condicionantes de fatores com maior ocorrência (Fator Operacional e Fator Humano) representam \" + \"{:.0%}\".format(sum(dfa2.n)/4485) + \" do total\")\n",
    "print(\"Os 2 aspectos de fatores com maior ocorrência (Desempenho do Ser Humano e Aspecto Psicológico) representam \" + \"{:.0%}\".format(sum(dfas2.n)/4485) + \" do total\")\n",
    "print(\"Os 2 condicionantes de fatores com maior ocorrência (Operação da Aeronave e Individual) representam \" + \"{:.0%}\".format(sum(dfc2.n)/4485) + \" do total\")\n",
    "print(\"Os 6 nomes de fatores com maior ocorrência representam \" + \"{:.0%}\".format(sum(dfn2.n)/4485) + \" do total\")"
   ]
  },
  {
   "cell_type": "markdown",
   "id": "65a63387-1029-4655-9bc1-f4a227c0eb33",
   "metadata": {},
   "source": [
    "Nota-se grande concentração relativa dos principais fatores contribuintes, não importando a variável observada. É esperado que tal concentração seja crescente conforme mais abrangente é a variável, já que uma variável mostra-se ligada à outra e, em último caso, todas são definidas pelo nome específico dos fatores observados (que, finalmente, mostram-se em grande concentração, com 6 fatores, menos de 10% do total, representando quase 50% dos casos).\n",
    "Os aspectos mais recorrentes (em aproximadamente 90% do total de observações) está relacionado ao aspecto humano do processo, assim como os 6 nomes de fatores observados mais frequentes. Mesmo que expandido, como observado no gráfico e dataframe pré recorte, todos os nomes de fatores mais recorrentes estão relacionados ao fator humano da operação, desde o momento de manutenção e checagem até decolagem e pouso. Vale ressaltar que, ainda que o fator humano (segundo classificação dos dados) seja expressivo, a área mais recorrente quando observadas ocorrências aéreas seria o Fator Operacional do processo."
   ]
  },
  {
   "cell_type": "markdown",
   "id": "0ed26b47",
   "metadata": {},
   "source": [
    "# ANÁLISE DAS CIDADES E TIPOS DE VOO"
   ]
  },
  {
   "cell_type": "code",
   "execution_count": null,
   "id": "e3d86f0d-640c-4b1d-852a-9bdf3837a304",
   "metadata": {},
   "outputs": [],
   "source": [
    "# Quais tipos de operação de voos possuem maior acidentes?\n",
    "aeronave['aeronave_tipo_operacao'].value_counts().reset_index().pipe(lambda _: ggplot(_,aes(x=\"reorder(index,aeronave_tipo_operacao)\",y=\"aeronave_tipo_operacao\",fill='index'))+\n",
    "        geom_col(alpha=0.8)+\n",
    "        coord_flip()+\n",
    "        labs(title='Acidentes por tipo de categoria',x=\"Categoria\",y=\"Frequência\") +\n",
    "        theme(legend_position = \"none\"))"
   ]
  },
  {
   "cell_type": "code",
   "execution_count": null,
   "id": "edaa773a-b3f9-4d2d-96fd-a23a2d2f52fd",
   "metadata": {},
   "outputs": [],
   "source": [
    "#Quais cidades possuem maior ocorrências?\n",
    "o=ocorrencia['ocorrencia_cidade'].value_counts().reset_index().head(10)\n",
    "o.value_counts().reset_index().pipe(lambda _: ggplot(_,aes(x=\"reorder(index,ocorrencia_cidade)\",y=\"ocorrencia_cidade\",fill='index'))+\n",
    "        geom_col(alpha=0.8)+\n",
    "        coord_flip()+\n",
    "        labs(title='Acidentes por cidade TOP 10',x=\"\",y=\"Frequência\") +\n",
    "        theme(legend_position = \"none\") + coord_flip())"
   ]
  },
  {
   "cell_type": "markdown",
   "id": "7feabd72-dc76-4e0f-9ae7-7e3a8f9c7c87",
   "metadata": {},
   "source": [
    "Pode-se notar que a cidade com maior número de acidentes foi o Rio de Janeiro, a segunda maior cidade do Brasil. É interessante notar que São Paulo não ficou em primeiro lugar, apesar de ser a maior metrópole do país e com o segundo aeroporto mais movimentado da América Latina (https://www.aeroin.net/passageiros-criticam-a-situacao-do-mais-movimentado-aeroporto-da-america-latina/#:~:text=Vale%20pontuar%20que%20o%20Aeroporto,da%20regi%C3%A3o%20no%20mesmo%20ano). "
   ]
  },
  {
   "cell_type": "code",
   "execution_count": null,
   "id": "e54ff4e0-91be-4ba6-b5c6-ecef37583133",
   "metadata": {},
   "outputs": [],
   "source": [
    "corr_a=(aeronave.drop([\"codigo_ocorrencia2\"],axis=1).corr()\n",
    "                .assign(medida = lambda _: _.index))\n",
    "corr_a"
   ]
  },
  {
   "cell_type": "code",
   "execution_count": null,
   "id": "fd7e3e98-6a51-4b96-9d6c-5e3a25a470e7",
   "metadata": {
    "scrolled": true
   },
   "outputs": [],
   "source": [
    "(corr_a.melt(id_vars = \"medida\", var_name = \"medida2\", value_name = \"correlacao\")\n",
    "           .pipe(lambda _: ggplot(_, aes(x = \"medida\", y = \"medida2\", fill = \"correlacao\")) + \n",
    "                               geom_tile(color = \"white\") + \n",
    "                               geom_text(aes(label = \"correlacao\"), format_string = \"{:.2f}\", size = 10, color = \"white\") +\n",
    "                               labs(x = \"\", y = \"\", fill = \"correlação\") + \n",
    "                               scale_fill_cmap(cmap_name = 'viridis', limits = (-1, 1)) + \n",
    "                               theme(figure_size = (8, 5))))"
   ]
  },
  {
   "cell_type": "markdown",
   "id": "16596230-58b7-4058-80c2-31658c7370fe",
   "metadata": {},
   "source": [
    "Analisando a tabela de correlação das variáveis quantitativas \"aeronave_assentos\" e \"aeronave_ano_fabricacao\" foi possível notar que os valores deram muito baixos, indicando uma grande dispersão nas fatalidades de forma geral. Contudo, como era de se esperar há uma correlação negativa entre número de assentos e número de fatalidades total, visto que aeronaves comerciais maiores passam por um grande escrutínio no dia a dia, quando comparado às privadas. Já o ano de fabricação apresenta uma correlação positiva, visto que aeronaves mais antigas podem apresentar maiores complicações como equipamentos defeituosos que levariam a ocorrência de incidentes"
   ]
  },
  {
   "cell_type": "markdown",
   "id": "c93a556b",
   "metadata": {},
   "source": [
    "# ANÁLISE DAS OCORRÊNCIAS RELACIONADAS A FATALIDADES"
   ]
  },
  {
   "cell_type": "markdown",
   "id": "f8c86010",
   "metadata": {},
   "source": [
    "## Número de fatalidades em diferentes níveis de dano.\n",
    "#### Pode-se ver pelas tabelas abaixo que há mais fatalidades quando o nível de dano das aeronaves for mais grave. A tabela mostra que houve 368 casos em que a aeronave tem o nível de dano destruída e 1713 casos de nível de dano substancial; a quantidade de fatalidades é de 622 e 267, respectivamente. Nos casos em que a aeronave sofreu poucos danos, a quantidade de fatalidades é quase nula. De um total de 4052 casos de nível de dano leve ou nenhum, o  número de fatalidades é apenas 15."
   ]
  },
  {
   "cell_type": "code",
   "execution_count": null,
   "id": "3319ad02",
   "metadata": {},
   "outputs": [],
   "source": [
    "(aeronave.value_counts([\"aeronave_nivel_dano\"])\n",
    "         .reset_index())"
   ]
  },
  {
   "cell_type": "code",
   "execution_count": null,
   "id": "93b3ee43",
   "metadata": {},
   "outputs": [],
   "source": [
    "(aeronave.groupby('aeronave_nivel_dano').sum()\n",
    "        .filter(['aeronave_fatalidades_total']).reset_index())"
   ]
  },
  {
   "cell_type": "markdown",
   "id": "69de2994",
   "metadata": {},
   "source": [
    "#### Ainda relacionando os níveis de dano com número de fatalidades, pode-se observar que cerca de 92% dos casos não houve mortes. 35% são casos de nenhum dano, 30% de dano leve e 25% de dano substancial, todos com nenhum falecido. Os 10% restantes envolvem casos com mais fatalidade e danos maiores nas aeronaves. "
   ]
  },
  {
   "cell_type": "code",
   "execution_count": null,
   "id": "0e5df8c5",
   "metadata": {},
   "outputs": [],
   "source": [
    "(aeronave.value_counts([\"aeronave_fatalidades_total\"],normalize=True)\n",
    "         .reset_index())"
   ]
  },
  {
   "cell_type": "code",
   "execution_count": null,
   "id": "ae0271c2",
   "metadata": {},
   "outputs": [],
   "source": [
    "(aeronave.value_counts([\"aeronave_nivel_dano\", \"aeronave_fatalidades_total\"])\n",
    "         .reset_index())"
   ]
  },
  {
   "cell_type": "code",
   "execution_count": null,
   "id": "2d9673aa",
   "metadata": {},
   "outputs": [],
   "source": [
    "(aeronave.value_counts([\"aeronave_nivel_dano\", \"aeronave_fatalidades_total\"]).reset_index())"
   ]
  },
  {
   "cell_type": "markdown",
   "id": "ecd9fa9e",
   "metadata": {},
   "source": [
    "## Número de fatalidades em relação da categoria da aeronave.\n",
    "#### Pelo cógido abaixo pode-se ver que a maioiria das ocorrências acontecem com aeronaves de tipo avião (80%), helicóptero (11%) e ultraleve (5%) e são nessas três categorias que registram maioria dos falecidos. Nos acidentes de avião, o número de fatalidade é 587"
   ]
  },
  {
   "cell_type": "code",
   "execution_count": null,
   "id": "94028581",
   "metadata": {},
   "outputs": [],
   "source": [
    "(aeronave.groupby('aeronave_registro_categoria').sum()\n",
    "        .filter(['aeronave_fatalidades_total']).reset_index())"
   ]
  },
  {
   "cell_type": "code",
   "execution_count": null,
   "id": "6fba4ad5",
   "metadata": {},
   "outputs": [],
   "source": [
    "(aeronave.value_counts([\"aeronave_registro_categoria\"],normalize=True)\n",
    "         .reset_index())"
   ]
  },
  {
   "cell_type": "markdown",
   "id": "ca98dbba",
   "metadata": {},
   "source": [
    "## Número de fatalidades em relação a fase de operação da aeronave.\n",
    "#### A tabela mostra que a fase de operação que acontece mais mortes é na fase de cruzeiro, que gerou no total 224 falecidos. Em seguida é a fase de decolagem, com 193 mortes. Os acidentes que acontecem na subida e descida também podem causar mortes."
   ]
  },
  {
   "cell_type": "code",
   "execution_count": null,
   "id": "261f121c",
   "metadata": {},
   "outputs": [],
   "source": [
    "(aeronave.groupby('aeronave_fase_operacao').sum()\n",
    "        .filter(['aeronave_fatalidades_total']).reset_index()\n",
    "        .sort_values([\"aeronave_fatalidades_total\"],ascending=False))"
   ]
  },
  {
   "cell_type": "markdown",
   "id": "5a56952e",
   "metadata": {},
   "source": [
    "## Relacionando o número de fatalidade com diferentes fatores que geraram a ocorrência\n",
    "#### Pode-se ver que a maioria dos mortes nos acidentes são causados por fatores humanos e operacionais. O desepenho do ser humano e aspecto psicológico influenciam diretamente na segurança da aeronave e no número de fatalidades. "
   ]
  },
  {
   "cell_type": "code",
   "execution_count": null,
   "id": "75e509d5",
   "metadata": {},
   "outputs": [],
   "source": [
    "tudo=pd.merge(tipo_ocorrencia,ocorrencia,on='codigo_ocorrencia1')\n",
    "tudo=pd.merge(aeronave,tudo,on='codigo_ocorrencia2')\n",
    "tudo=pd.merge(contrib,tudo,on='codigo_ocorrencia3')"
   ]
  },
  {
   "cell_type": "code",
   "execution_count": null,
   "id": "9eae3d36",
   "metadata": {},
   "outputs": [],
   "source": [
    "(tudo.groupby('fator_area').sum()\n",
    "        .filter(['aeronave_fatalidades_total']).reset_index()\n",
    "        .sort_values([\"aeronave_fatalidades_total\"],ascending=False))"
   ]
  },
  {
   "cell_type": "code",
   "execution_count": null,
   "id": "c92ae307",
   "metadata": {},
   "outputs": [],
   "source": [
    "(tudo.groupby('fator_aspecto').sum()\n",
    "           .filter(['aeronave_fatalidades_total']).reset_index()\n",
    "           .sort_values([\"aeronave_fatalidades_total\"],ascending=False))"
   ]
  },
  {
   "cell_type": "markdown",
   "id": "d4f04bf3",
   "metadata": {},
   "source": [
    "### A seguir são os graficos de relação entre número de fatalidade e diversas variáveis: "
   ]
  },
  {
   "cell_type": "code",
   "execution_count": null,
   "id": "750843e9",
   "metadata": {},
   "outputs": [],
   "source": [
    "(aeronave.groupby('aeronave_nivel_dano').sum()\n",
    "        .filter(['aeronave_fatalidades_total']).reset_index()\n",
    "        .pipe(lambda _: ggplot(_,aes(x = \"aeronave_nivel_dano\",y = \"aeronave_fatalidades_total\",fill = \"aeronave_nivel_dano\")))+\n",
    "                        geom_col(alpha=0.9)+\n",
    "                        theme(legend_position = \"none\"))"
   ]
  },
  {
   "cell_type": "code",
   "execution_count": null,
   "id": "783b548f",
   "metadata": {},
   "outputs": [],
   "source": [
    "(aeronave.groupby('aeronave_motor_tipo').sum()\n",
    "        .filter(['aeronave_fatalidades_total']).reset_index()\n",
    "        .pipe(lambda _: ggplot(_,aes(x = \"aeronave_motor_tipo\",y=\"aeronave_fatalidades_total\",fill=\"aeronave_motor_tipo\")))+\n",
    "                        geom_col(alpha=0.9))"
   ]
  },
  {
   "cell_type": "code",
   "execution_count": null,
   "id": "a6499e0f",
   "metadata": {},
   "outputs": [],
   "source": [
    "(tudo.groupby('aeronave_fase_operacao').sum()\n",
    "        .filter(['aeronave_fatalidades_total']).reset_index()\n",
    "        .pipe(lambda _: ggplot(_,aes(x = \"aeronave_fase_operacao\",y=\"aeronave_fatalidades_total\",fill=\"aeronave_fase_operacao\")))+\n",
    "                        geom_col(alpha=0.9)+\n",
    "                        coord_flip()+\n",
    "                        theme(legend_position='none'))"
   ]
  },
  {
   "cell_type": "markdown",
   "id": "e37daa78",
   "metadata": {},
   "source": [
    "# MODELO PREDITIVO: ÁRVORE DE CLASSIFICAÇÃO\n",
    "## PREVENDO SE A OCORRÊNCIA SERÁ CLASSIFICADA COMO ACIDENTE OU NÃO"
   ]
  },
  {
   "cell_type": "markdown",
   "id": "f6333713",
   "metadata": {},
   "source": [
    "###### Criando DF com variáveis a serem utilizadas na predição e acrescentando coluna da variável resposta: \"classif\""
   ]
  },
  {
   "cell_type": "code",
   "execution_count": null,
   "id": "8d607e1c-cecd-4e82-82ab-6292cfde21f6",
   "metadata": {},
   "outputs": [],
   "source": [
    "#Criando DF utilizado p/ predição\n",
    "df_pred=pd.merge(tipo_ocorrencia,ocorrencia,on='codigo_ocorrencia1')\n",
    "df_pred=pd.merge(aeronave,df_pred,on='codigo_ocorrencia2')\n",
    "df_pred=pd.merge(contrib,df_pred,on='codigo_ocorrencia3')\n",
    "\n",
    "# Adicionando coluna com variável resposta\n",
    "a=df_pred['ocorrencia_classificacao'].tolist()\n",
    "b=[]\n",
    "for i in range(0,len(a)):\n",
    "    if a[i]=='ACIDENTE':\n",
    "        b.append(1)\n",
    "    else:\n",
    "        b.append(0)\n",
    "df_pred=df_pred.drop(columns=['ocorrencia_classificacao'])\n",
    "df_pred=df_pred.assign(classif=b)"
   ]
  },
  {
   "cell_type": "markdown",
   "id": "b05447cb",
   "metadata": {},
   "source": [
    "###### Construindo modelo preditivo"
   ]
  },
  {
   "cell_type": "code",
   "execution_count": 61,
   "id": "24794102-454d-4e10-a84c-a8ff9cc160b4",
   "metadata": {},
   "outputs": [
    {
     "data": {
      "image/png": "[encoded data removed]",
      "text/plain": [
       "<Figure size 1440x432 with 1 Axes>"
      ]
     },
     "metadata": {
      "needs_background": "light"
     },
     "output_type": "display_data"
    }
   ],
   "source": [
    "# Criando fórmula a ser utilizada no modelo preditivo e separando dados em conjunto de treino e teste\n",
    "formula = \"classif ~ 0 + \" + \" + \".join(x for x in df_pred.columns if x != \"classif\")\n",
    "y, X = patsy.dmatrices(formula, data = df_pred)\n",
    "X_trn, X_tst, y_trn, y_tst = train_test_split(X, y, test_size = 0.5, random_state = 42)\n",
    "# Construindo árvore de classificação\n",
    "ctree = tree.DecisionTreeClassifier(max_depth = 3)\n",
    "ctree.fit(X_trn, y_trn)\n",
    "\n",
    "fig.figure(figsize = (20, 6))\n",
    "tree.plot_tree(ctree,\n",
    "                feature_names = X.design_info.column_names,\n",
    "                label = \"root\",\n",
    "                class_names = {0: 'OUTRO', 1: 'ACIDENTE'},\n",
    "                filled = True,\n",
    "                impurity = False,\n",
    "                fontsize = 10);"
   ]
  },
  {
   "cell_type": "markdown",
   "id": "3dd0134b",
   "metadata": {},
   "source": [
    "###### Nota-se que o Estado onde são observadas as ocorrências e o nível de dano da aeronave são duas variáveis de grande relevância para prever a forma como a ocorrêcia será classificada, uma vez que aparecem diversas vezes nos nós da árvore de classificação criada. Ademais, o grupo observou que a cidade apontada pela árvore de classifcação (Santa Inês) poderia ser motivo para poda da árvore, uma vez que tal cidade apresenta um número de ocorrências irrelevante ao estudo."
   ]
  },
  {
   "cell_type": "markdown",
   "id": "f8d6e26e",
   "metadata": {},
   "source": [
    "###### Medindo a eficiência do modelo"
   ]
  },
  {
   "cell_type": "code",
   "execution_count": 62,
   "id": "422eab4d",
   "metadata": {},
   "outputs": [
    {
     "name": "stdout",
     "output_type": "stream",
     "text": [
      "AUC da árvore de classificação= 0.87\n"
     ]
    },
    {
     "data": {
      "image/png": "[encoded data removed]",
      "text/plain": [
       "<Figure size 400x400 with 1 Axes>"
      ]
     },
     "metadata": {},
     "output_type": "display_data"
    },
    {
     "data": {
      "text/plain": [
       "<ggplot: (138279998266)>"
      ]
     },
     "execution_count": 62,
     "metadata": {},
     "output_type": "execute_result"
    }
   ],
   "source": [
    "# Construindo curva ROC\n",
    "prob_tree = ctree.predict_proba(X_tst)[:, 1]\n",
    "fpr_tree, tpr_tree, threshold = roc_curve(y_tst, prob_tree)\n",
    "# Calculando AUC do modelo\n",
    "auc_tree = roc_auc_score(y_tst, prob_tree)\n",
    "print('AUC da árvore de classificação=',round(auc_tree,2))\n",
    "# Plotando curva ROC\n",
    "(ggplot() +\n",
    "     geom_line(aes(x = fpr_tree, y = tpr_tree), color = \"blue\", size = 1) +\n",
    "     geom_abline(linetype = \"dashed\") +\n",
    "     labs(x = \"FPR (1 -  Specificity)\", y = \"TPR (Sensitivity)\", title = \"ROC (Árvore de classificação)\") +\n",
    "     theme(figure_size = (4, 4)))"
   ]
  }
 ],
 "metadata": {
  "kernelspec": {
   "display_name": "Python 3 (ipykernel)",
   "language": "python",
   "name": "python3"
  },
  "language_info": {
   "codemirror_mode": {
    "name": "ipython",
    "version": 3
   },
   "file_extension": ".py",
   "mimetype": "text/x-python",
   "name": "python",
   "nbconvert_exporter": "python",
   "pygments_lexer": "ipython3",
   "version": "3.9.12"
  }
 },
 "nbformat": 4,
 "nbformat_minor": 5
}
